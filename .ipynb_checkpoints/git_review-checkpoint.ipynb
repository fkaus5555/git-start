{
 "cells": [
  {
   "cell_type": "markdown",
   "metadata": {},
   "source": [
    "## git 명령어 요약\n",
    "- clone\n",
    "* add\n",
    "* commit\n",
    "* push   \n",
    "  - 브랜치이 생성(현재 브랜치 == 해드 브랜치)\n",
    "  - 체크아웃: 특청 브랜치로 돌아가고 싶을 떄 사용"
   ]
  },
  {
   "cell_type": "code",
   "execution_count": null,
   "metadata": {},
   "outputs": [],
   "source": []
  }
 ],
 "metadata": {
  "kernelspec": {
   "display_name": "Python 3",
   "language": "python",
   "name": "python3"
  },
  "language_info": {
   "codemirror_mode": {
    "name": "ipython",
    "version": 3
   },
   "file_extension": ".py",
   "mimetype": "text/x-python",
   "name": "python",
   "nbconvert_exporter": "python",
   "pygments_lexer": "ipython3",
   "version": "3.8.5"
  }
 },
 "nbformat": 4,
 "nbformat_minor": 4
}
